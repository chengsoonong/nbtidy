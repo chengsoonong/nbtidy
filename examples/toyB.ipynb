{
 "cells": [
  {
   "cell_type": "markdown",
   "metadata": {},
   "source": [
    "# Toy Process B\n",
    "\n",
    "Merge two files, ```alpha_norm.csv``` and ```beta.csv``` by concatenating the columns."
   ]
  },
  {
   "cell_type": "code",
   "execution_count": 1,
   "metadata": {
    "collapsed": true
   },
   "outputs": [],
   "source": [
    "import pandas as pd"
   ]
  },
  {
   "cell_type": "code",
   "execution_count": 12,
   "metadata": {
    "collapsed": false
   },
   "outputs": [
    {
     "data": {
      "text/html": [
       "<div>\n",
       "<table border=\"1\" class=\"dataframe\">\n",
       "  <thead>\n",
       "    <tr style=\"text-align: right;\">\n",
       "      <th></th>\n",
       "      <th>D</th>\n",
       "      <th>E</th>\n",
       "      <th>F</th>\n",
       "      <th>G</th>\n",
       "      <th>H</th>\n",
       "    </tr>\n",
       "  </thead>\n",
       "  <tbody>\n",
       "    <tr>\n",
       "      <th>0</th>\n",
       "      <td>0.903988</td>\n",
       "      <td>0.966516</td>\n",
       "      <td>0.138845</td>\n",
       "      <td>0.739390</td>\n",
       "      <td>0.589340</td>\n",
       "    </tr>\n",
       "    <tr>\n",
       "      <th>1</th>\n",
       "      <td>0.573824</td>\n",
       "      <td>0.047297</td>\n",
       "      <td>0.910284</td>\n",
       "      <td>0.185507</td>\n",
       "      <td>0.037181</td>\n",
       "    </tr>\n",
       "    <tr>\n",
       "      <th>2</th>\n",
       "      <td>0.902670</td>\n",
       "      <td>0.746701</td>\n",
       "      <td>0.034802</td>\n",
       "      <td>0.980981</td>\n",
       "      <td>0.634948</td>\n",
       "    </tr>\n",
       "    <tr>\n",
       "      <th>3</th>\n",
       "      <td>0.940812</td>\n",
       "      <td>0.999164</td>\n",
       "      <td>0.325257</td>\n",
       "      <td>0.684992</td>\n",
       "      <td>0.966486</td>\n",
       "    </tr>\n",
       "    <tr>\n",
       "      <th>4</th>\n",
       "      <td>0.897522</td>\n",
       "      <td>0.929041</td>\n",
       "      <td>0.637654</td>\n",
       "      <td>0.024762</td>\n",
       "      <td>0.853843</td>\n",
       "    </tr>\n",
       "  </tbody>\n",
       "</table>\n",
       "</div>"
      ],
      "text/plain": [
       "          D         E         F         G         H\n",
       "0  0.903988  0.966516  0.138845  0.739390  0.589340\n",
       "1  0.573824  0.047297  0.910284  0.185507  0.037181\n",
       "2  0.902670  0.746701  0.034802  0.980981  0.634948\n",
       "3  0.940812  0.999164  0.325257  0.684992  0.966486\n",
       "4  0.897522  0.929041  0.637654  0.024762  0.853843"
      ]
     },
     "execution_count": 12,
     "metadata": {},
     "output_type": "execute_result"
    }
   ],
   "source": [
    "alpha = pd.read_csv('alpha_norm.csv')\n",
    "beta = pd.read_csv('beta.csv')\n",
    "beta.head()"
   ]
  },
  {
   "cell_type": "code",
   "execution_count": 16,
   "metadata": {
    "collapsed": false
   },
   "outputs": [
    {
     "data": {
      "text/html": [
       "<div>\n",
       "<table border=\"1\" class=\"dataframe\">\n",
       "  <thead>\n",
       "    <tr style=\"text-align: right;\">\n",
       "      <th></th>\n",
       "      <th>A</th>\n",
       "      <th>B</th>\n",
       "      <th>C</th>\n",
       "      <th>D</th>\n",
       "      <th>E</th>\n",
       "      <th>F</th>\n",
       "      <th>G</th>\n",
       "      <th>H</th>\n",
       "    </tr>\n",
       "  </thead>\n",
       "  <tbody>\n",
       "    <tr>\n",
       "      <th>0</th>\n",
       "      <td>0.389217</td>\n",
       "      <td>-0.348779</td>\n",
       "      <td>0.084264</td>\n",
       "      <td>0.903988</td>\n",
       "      <td>0.966516</td>\n",
       "      <td>0.138845</td>\n",
       "      <td>0.739390</td>\n",
       "      <td>0.589340</td>\n",
       "    </tr>\n",
       "    <tr>\n",
       "      <th>1</th>\n",
       "      <td>-0.086694</td>\n",
       "      <td>-0.226780</td>\n",
       "      <td>0.112096</td>\n",
       "      <td>0.573824</td>\n",
       "      <td>0.047297</td>\n",
       "      <td>0.910284</td>\n",
       "      <td>0.185507</td>\n",
       "      <td>0.037181</td>\n",
       "    </tr>\n",
       "    <tr>\n",
       "      <th>2</th>\n",
       "      <td>-0.207727</td>\n",
       "      <td>0.408283</td>\n",
       "      <td>0.093010</td>\n",
       "      <td>0.902670</td>\n",
       "      <td>0.746701</td>\n",
       "      <td>0.034802</td>\n",
       "      <td>0.980981</td>\n",
       "      <td>0.634948</td>\n",
       "    </tr>\n",
       "    <tr>\n",
       "      <th>3</th>\n",
       "      <td>0.105642</td>\n",
       "      <td>0.583417</td>\n",
       "      <td>0.066559</td>\n",
       "      <td>0.940812</td>\n",
       "      <td>0.999164</td>\n",
       "      <td>0.325257</td>\n",
       "      <td>0.684992</td>\n",
       "      <td>0.966486</td>\n",
       "    </tr>\n",
       "    <tr>\n",
       "      <th>4</th>\n",
       "      <td>0.046159</td>\n",
       "      <td>-0.141367</td>\n",
       "      <td>0.395775</td>\n",
       "      <td>0.897522</td>\n",
       "      <td>0.929041</td>\n",
       "      <td>0.637654</td>\n",
       "      <td>0.024762</td>\n",
       "      <td>0.853843</td>\n",
       "    </tr>\n",
       "  </tbody>\n",
       "</table>\n",
       "</div>"
      ],
      "text/plain": [
       "          A         B         C         D         E         F         G  \\\n",
       "0  0.389217 -0.348779  0.084264  0.903988  0.966516  0.138845  0.739390   \n",
       "1 -0.086694 -0.226780  0.112096  0.573824  0.047297  0.910284  0.185507   \n",
       "2 -0.207727  0.408283  0.093010  0.902670  0.746701  0.034802  0.980981   \n",
       "3  0.105642  0.583417  0.066559  0.940812  0.999164  0.325257  0.684992   \n",
       "4  0.046159 -0.141367  0.395775  0.897522  0.929041  0.637654  0.024762   \n",
       "\n",
       "          H  \n",
       "0  0.589340  \n",
       "1  0.037181  \n",
       "2  0.634948  \n",
       "3  0.966486  \n",
       "4  0.853843  "
      ]
     },
     "execution_count": 16,
     "metadata": {},
     "output_type": "execute_result"
    }
   ],
   "source": [
    "common = pd.concat([alpha, beta], axis=1)\n",
    "common.head()"
   ]
  },
  {
   "cell_type": "code",
   "execution_count": 17,
   "metadata": {
    "collapsed": true
   },
   "outputs": [],
   "source": [
    "common.to_csv('common.csv', index=False)"
   ]
  },
  {
   "cell_type": "code",
   "execution_count": null,
   "metadata": {
    "collapsed": true
   },
   "outputs": [],
   "source": []
  }
 ],
 "metadata": {
  "kernelspec": {
   "display_name": "Python 3",
   "language": "python",
   "name": "python3"
  },
  "language_info": {
   "codemirror_mode": {
    "name": "ipython",
    "version": 3
   },
   "file_extension": ".py",
   "mimetype": "text/x-python",
   "name": "python",
   "nbconvert_exporter": "python",
   "pygments_lexer": "ipython3",
   "version": "3.4.3"
  }
 },
 "nbformat": 4,
 "nbformat_minor": 0
}
